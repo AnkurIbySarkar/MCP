{
 "cells": [
  {
   "cell_type": "code",
   "execution_count": null,
   "id": "6791b1fb",
   "metadata": {},
   "outputs": [
    {
     "ename": "",
     "evalue": "",
     "output_type": "error",
     "traceback": [
      "\u001b[1;31mRunning cells with 'predictive_maintenance_mcp (Python 3.12.0)' requires the ipykernel package.\n",
      "\u001b[1;31mInstall 'ipykernel' into the Python environment. \n",
      "\u001b[1;31mCommand: 'c:/Users/Admin/Desktop/mcp/predictive_maintenance_mcp/.venv/Scripts/python.exe -m pip install ipykernel -U --force-reinstall'"
     ]
    }
   ],
   "source": [
    "import os\n",
    "import joblib"
   ]
  },
  {
   "cell_type": "code",
   "execution_count": null,
   "id": "7383cbc7",
   "metadata": {},
   "outputs": [],
   "source": [
    "def predict_failure(temperature: float, vibration: float) -> float:\n",
    "    model_path = os.path.join(os.path.dirname(__file__), \"rf_model.joblib\")\n",
    "    model = joblib.load(model_path)\n",
    "    features = [[temperature, vibration]]\n",
    "    proba = model.predict_proba(features)[0][1]\n",
    "    return float(proba)\n",
    "    "
   ]
  }
 ],
 "metadata": {
  "kernelspec": {
   "display_name": "gpuenv",
   "language": "python",
   "name": "python3"
  },
  "language_info": {
   "name": "python",
   "version": "3.10.0"
  }
 },
 "nbformat": 4,
 "nbformat_minor": 5
}
